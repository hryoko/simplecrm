{
 "cells": [
  {
   "cell_type": "code",
   "execution_count": null,
   "id": "6cb7abaf",
   "metadata": {},
   "outputs": [],
   "source": [
    "from django.views.generic import ListView\n"
   ]
  }
 ],
 "metadata": {
  "kernelspec": {
   "display_name": ".venv",
   "language": "python",
   "name": "python3"
  },
  "language_info": {
   "name": "python",
   "version": "3.13.3"
  }
 },
 "nbformat": 4,
 "nbformat_minor": 5
}
